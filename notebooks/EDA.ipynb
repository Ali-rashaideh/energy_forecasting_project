{
 "cells": [
  {
   "cell_type": "markdown",
   "id": "db4f2ffc",
   "metadata": {},
   "source": [
    "# Energy Consumption Forecasting Project\n",
    "## Initial Data Exploration & Pipeline Demonstration"
   ]
  },
  {
   "cell_type": "markdown",
   "id": "eca9addd",
   "metadata": {},
   "source": [
    "### 1. Project Setup"
   ]
  },
  {
   "cell_type": "code",
   "execution_count": 60,
   "id": "ddbf67d2",
   "metadata": {},
   "outputs": [],
   "source": [
    "import pandas as pd\n",
    "import numpy as np\n",
    "import matplotlib.pyplot as plt\n",
    "import matplotlib.dates as mdates\n",
    "from IPython.display import Markdown, display\n",
    "import gc  # Garbage collector\n",
    "\n",
    "plt.style.use('seaborn-v0_8-whitegrid') \n",
    "pd.set_option('display.max_columns', 50)"
   ]
  },
  {
   "cell_type": "markdown",
   "id": "704a7a55",
   "metadata": {},
   "source": [
    "### 2. Raw Data Inspection"
   ]
  },
  {
   "cell_type": "code",
   "execution_count": 64,
   "id": "2099cfa0",
   "metadata": {},
   "outputs": [
    {
     "data": {
      "text/markdown": [
       "#### Final Dataset: 2073997 rows"
      ],
      "text/plain": [
       "<IPython.core.display.Markdown object>"
      ]
     },
     "metadata": {},
     "output_type": "display_data"
    }
   ],
   "source": [
    "dtypes = {\n",
    "    'Date': str,\n",
    "    'Time': str,\n",
    "    'Global_active_power': float,\n",
    "    'Global_reactive_power': float,\n",
    "    'Voltage': float,\n",
    "    'Global_intensity': float,\n",
    "    'Sub_metering_1': float,\n",
    "    'Sub_metering_2': float,\n",
    "    'Sub_metering_3': float\n",
    "}\n",
    "\n",
    "raw_path = r'C:\\Users\\AliRashaideh\\OneDrive - Seagulls\\Desktop\\energy_forecasting_project\\data\\raw\\household_power_consumption.csv'\n",
    "\n",
    "df=pd.read_csv(raw_path, sep=';', dtype=dtypes, na_values=['?', 'nan'])\n",
    "  \n",
    "    \n",
    "df['datetime'] = pd.to_datetime(\n",
    "    df['Date'] + ' ' + df['Time'],\n",
    "    format='%d/%m/%Y %H:%M:%S',\n",
    "    errors='coerce'\n",
    ")\n",
    "\n",
    "df = df[df['datetime'].between('2006-12-16', '2010-11-26')]\n",
    "\n",
    "\n",
    "display(Markdown(f\"#### Final Dataset: {len(df)} rows\"))"
   ]
  },
  {
   "cell_type": "code",
   "execution_count": 65,
   "id": "719c6404",
   "metadata": {},
   "outputs": [
    {
     "data": {
      "text/markdown": [
       "**Date Range:** 2006-12-16 17:24:00 to 2010-11-26 00:00:00"
      ],
      "text/plain": [
       "<IPython.core.display.Markdown object>"
      ]
     },
     "metadata": {},
     "output_type": "display_data"
    },
    {
     "data": {
      "text/markdown": [
       "**Invalid Dates:** 0 rows"
      ],
      "text/plain": [
       "<IPython.core.display.Markdown object>"
      ]
     },
     "metadata": {},
     "output_type": "display_data"
    }
   ],
   "source": [
    "min_date = df['datetime'].min()\n",
    "max_date = df['datetime'].max()\n",
    "display(Markdown(f\"**Date Range:** {min_date} to {max_date}\"))\n",
    "\n",
    "invalid_dates = df[df['datetime'].isna()]\n",
    "display(Markdown(f\"**Invalid Dates:** {len(invalid_dates)} rows\"))\n",
    "if len(invalid_dates) > 0:\n",
    "    display(invalid_dates.head(3))\n",
    "\n",
    "df = df.dropna(subset=['datetime'])\n",
    "df.set_index('datetime', inplace=True)"
   ]
  },
  {
   "cell_type": "code",
   "execution_count": 70,
   "id": "0b1f461f",
   "metadata": {},
   "outputs": [
    {
     "data": {
      "text/markdown": [
       "### Null Values in Each Column:"
      ],
      "text/plain": [
       "<IPython.core.display.Markdown object>"
      ]
     },
     "metadata": {},
     "output_type": "display_data"
    },
    {
     "data": {
      "text/plain": [
       "Global_active_power      25979\n",
       "Global_reactive_power    25979\n",
       "Voltage                  25979\n",
       "Global_intensity         25979\n",
       "Sub_metering_1           25979\n",
       "Sub_metering_2           25979\n",
       "Sub_metering_3           25979\n",
       "dtype: int64"
      ]
     },
     "metadata": {},
     "output_type": "display_data"
    }
   ],
   "source": [
    "#showing null values\n",
    "display(Markdown(\"### Null Values in Each Column:\"))\n",
    "null_counts = df.isnull().sum()\n",
    "null_counts = null_counts[null_counts > 0]\n",
    "if not null_counts.empty:\n",
    "    display(null_counts)"
   ]
  },
  {
   "cell_type": "markdown",
   "id": "3db55631",
   "metadata": {},
   "source": [
    "### 3. Fixing dtypes and Handle Missing Values (Temporary for eda) "
   ]
  },
  {
   "cell_type": "code",
   "execution_count": 68,
   "id": "7ac51db1",
   "metadata": {},
   "outputs": [],
   "source": [
    "def plot_safe_aggregation(series, title, ax, agg_freq='D'):\n",
    "    \"\"\"Safe plotting using aggregation\"\"\"\n",
    "    try:\n",
    "        # Aggregate to daily frequency\n",
    "        agg_data = series.resample(agg_freq).mean()\n",
    "        \n",
    "        # Plot with proper date formatting\n",
    "        agg_data.plot(ax=ax, title=title)\n",
    "        ax.xaxis.set_major_locator(mdates.YearLocator())\n",
    "        ax.xaxis.set_major_formatter(mdates.DateFormatter('%Y'))\n",
    "        return True\n",
    "    except Exception as e:\n",
    "        print(f\"Error plotting {title}: {str(e)}\")\n",
    "        return False\n",
    "    \n",
    "def plot_hourly_patterns(df, title_suffix=\"\"):\n",
    "    \"\"\"Plot aggregated hourly patterns without timeline\"\"\"\n",
    "    fig, axes = plt.subplots(3, 1, figsize=(15, 15))\n",
    "    \n",
    "    # 1. By hour of day\n",
    "    hourly = df.groupby(df.index.hour).mean()\n",
    "    hourly['Global_active_power'].plot(\n",
    "        ax=axes[0], \n",
    "        kind='bar',\n",
    "        title=f'Hourly Pattern {title_suffix}',\n",
    "        color='skyblue'\n",
    "    )\n",
    "    axes[0].set_xlabel('Hour of Day')\n",
    "    \n",
    "    # 2. By day of week\n",
    "    weekday = df.groupby(df.index.dayofweek).mean()\n",
    "    weekday['Global_active_power'].plot(\n",
    "        ax=axes[1], \n",
    "        kind='bar',\n",
    "        title=f'Weekly Pattern {title_suffix}',\n",
    "        color='lightgreen'\n",
    "    )\n",
    "    axes[1].set_xlabel('Day of Week (0=Monday, 6=Sunday)')\n",
    "    \n",
    "    # 3. By month of year\n",
    "    monthly = df.groupby(df.index.month).mean()\n",
    "    monthly['Global_active_power'].plot(\n",
    "        ax=axes[2], \n",
    "        kind='bar',\n",
    "        title=f'Monthly Pattern {title_suffix}',\n",
    "        color='salmon'\n",
    "    )\n",
    "    axes[2].set_xlabel('Month of Year')\n",
    "    \n",
    "    plt.tight_layout()\n",
    "    return fig"
   ]
  }
 ],
 "metadata": {
  "kernelspec": {
   "display_name": "eng (3.13.1)",
   "language": "python",
   "name": "python3"
  },
  "language_info": {
   "codemirror_mode": {
    "name": "ipython",
    "version": 3
   },
   "file_extension": ".py",
   "mimetype": "text/x-python",
   "name": "python",
   "nbconvert_exporter": "python",
   "pygments_lexer": "ipython3",
   "version": "3.13.1"
  }
 },
 "nbformat": 4,
 "nbformat_minor": 5
}
